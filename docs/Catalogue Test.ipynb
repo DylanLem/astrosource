{
 "cells": [
  {
   "cell_type": "code",
   "execution_count": 73,
   "metadata": {},
   "outputs": [],
   "source": [
    "%matplotlib notebook\n",
    "import matplotlib.pyplot as plt\n",
    "import numpy as np\n",
    "import glob\n",
    "import os\n",
    "from fits_align.ident import make_transforms\n",
    "from astropy.io import fits\n",
    "from astropy import wcs\n",
    "from astropy.units import degree\n",
    "from astropy.coordinates import SkyCoord"
   ]
  },
  {
   "cell_type": "code",
   "execution_count": 74,
   "metadata": {},
   "outputs": [],
   "source": [
    "indir = '/Users/egomez/Downloads/lcogtdata-20200116-213/'"
   ]
  },
  {
   "cell_type": "code",
   "execution_count": 75,
   "metadata": {},
   "outputs": [],
   "source": [
    "img_list = glob.glob('/Users/egomez/Downloads/lcogtdata-20200116-213/*.fz') "
   ]
  },
  {
   "cell_type": "markdown",
   "metadata": {},
   "source": [
    "Make a large ndarray of all the data, sorted by flux"
   ]
  },
  {
   "cell_type": "code",
   "execution_count": 76,
   "metadata": {},
   "outputs": [],
   "source": [
    "def data_sort(image):\n",
    "    with fits.open(image) as hdul:\n",
    "        b = np.sort(hdul[2].data, order=['flux']) \n",
    "        w = wcs.WCS(hdul[1].header)\n",
    "        ra, dec = w.wcs_pix2world(b['x'], b['y'], 1)\n",
    "        med = np.median(b['flux'])\n",
    "        a = b[b['flux']>0.5*med][::-1]\n",
    "        counts = a['flux']\n",
    "        countserr = a['fluxerr']\n",
    "        ref_a = np.array([a['flux'],a['x'], a['y']])\n",
    "    return ref_a"
   ]
  },
  {
   "cell_type": "markdown",
   "metadata": {},
   "source": [
    "Align the arrays"
   ]
  },
  {
   "cell_type": "code",
   "execution_count": 77,
   "metadata": {},
   "outputs": [],
   "source": [
    "ref_image = img_list[0] \n",
    "images_to_align = img_list[1:] \n",
    "identifications = make_transforms(ref_image, images_to_align)"
   ]
  },
  {
   "cell_type": "code",
   "execution_count": 78,
   "metadata": {},
   "outputs": [],
   "source": [
    "# dt = [('flux',tmpa.dtype), ('x', tmpa.dtype)]\n",
    "# assert tmpa.flags['C_CONTIGUOUS']\n",
    "# phot_ref = tmpa.ravel().view(dt)\n",
    "# phot_ref.sort(order=['flux','x'])"
   ]
  },
  {
   "cell_type": "code",
   "execution_count": 79,
   "metadata": {},
   "outputs": [
    {
     "name": "stderr",
     "output_type": "stream",
     "text": [
      "WARNING: FITSFixedWarning: 'obsfix' made the change 'Set OBSGEO-L to   -16.511725 from OBSGEO-[XYZ].\n",
      "Set OBSGEO-B to    28.300308 from OBSGEO-[XYZ].\n",
      "Set OBSGEO-H to     2386.995 from OBSGEO-[XYZ]'. [astropy.wcs.wcs]\n"
     ]
    }
   ],
   "source": [
    "photarray = []\n",
    "old = []\n",
    "for id in identifications:\n",
    "    a = data_sort(id.ukn.filepath)\n",
    "    coords = [a[1],a[2]]\n",
    "    inv = id.trans.inverse()\n",
    "    (matrix, offset) = inv.matrixform()\n",
    "    xy = np.dot(matrix,coords) - offset.reshape(2,1)\n",
    "#         ra, dec = w.wcs_pix2world(xy[0], xy[1], 1)\n",
    "    tmpa = np.array([a[0],xy[0],xy[1]])\n",
    "    photarray.append(tmpa)"
   ]
  },
  {
   "cell_type": "code",
   "execution_count": 86,
   "metadata": {},
   "outputs": [],
   "source": [
    "a = data_sort(ref_image)\n",
    "b = photarray[10].copy()\n",
    "m = min(a.shape, b.shape)[1]"
   ]
  },
  {
   "cell_type": "code",
   "execution_count": 81,
   "metadata": {},
   "outputs": [],
   "source": [
    "pa_align = []"
   ]
  },
  {
   "cell_type": "markdown",
   "metadata": {},
   "source": [
    "Check if some of the coordinates are switch (because the fluxes were close)"
   ]
  },
  {
   "cell_type": "code",
   "execution_count": 82,
   "metadata": {},
   "outputs": [],
   "source": [
    "m_tot = 10000\n",
    "for b in photarray:\n",
    "    b_t = b.T\n",
    "    m = min(a.shape, b.shape)[1]\n",
    "    m_tot = m if m < m_tot else m_tot\n",
    "    c = abs(a.T[:m]-b.T[:m])\n",
    "    for ind in range(2,m-1):\n",
    "        if c[ind,1]> 3:\n",
    "            for ia in range(0,4):\n",
    "                if np.abs(a.T[ind]-b_t[ind-ia])[1] < 3 and np.abs(a.T[ind]-b_t[ind-ia])[2] < 3:\n",
    "                    b_t[[ind,ind-ia]] = b_t[[ind-ia,ind]]\n",
    "                    continue\n",
    "    pa_align.append(b_t)\n",
    "# How close are the 2 arrays to matching"
   ]
  },
  {
   "cell_type": "markdown",
   "metadata": {},
   "source": [
    "Make a map of the images to use by comparing the coordinate columns in each frame with the reference frame. Remove images which have less than 70 matching stars because these probably have things wrong with them."
   ]
  },
  {
   "cell_type": "code",
   "execution_count": 90,
   "metadata": {},
   "outputs": [
    {
     "name": "stdout",
     "output_type": "stream",
     "text": [
      "27:27 comparison stars\n",
      "0.79 % of files used\n"
     ]
    }
   ],
   "source": [
    "cl = np.ones((m_tot, 3), dtype=bool)\n",
    "count =0\n",
    "phot = [a]\n",
    "for b in pa_align:\n",
    "    if np.sum(np.isclose(a[1,:m_tot], b.T[1,:m_tot], atol=5)) < 70:\n",
    "        continue\n",
    "    count +=1\n",
    "    phot.append(b.T)\n",
    "    cl *= np.isclose(a.T[:m_tot], b[:m_tot], atol=5)\n",
    "print(f\"{np.sum(cl.T[1])}:{np.sum(cl.T[2])} comparison stars\")\n",
    "print(f\"{count/len(pa_align):.2f} % of files used\")"
   ]
  },
  {
   "cell_type": "code",
   "execution_count": 84,
   "metadata": {},
   "outputs": [
    {
     "ename": "NameError",
     "evalue": "name 'phot_ref' is not defined",
     "output_type": "error",
     "traceback": [
      "\u001b[0;31m---------------------------------------------------------------------------\u001b[0m",
      "\u001b[0;31mNameError\u001b[0m                                 Traceback (most recent call last)",
      "\u001b[0;32m<ipython-input-84-4ee65651cfff>\u001b[0m in \u001b[0;36m<module>\u001b[0;34m\u001b[0m\n\u001b[1;32m      1\u001b[0m \u001b[0;31m# for i in range(0,len(photarray)):\u001b[0m\u001b[0;34m\u001b[0m\u001b[0;34m\u001b[0m\u001b[0;34m\u001b[0m\u001b[0m\n\u001b[1;32m      2\u001b[0m \u001b[0;31m#      plt.scatter(photarray[i],marker='.',c='blue',alpha=0.005)\u001b[0m\u001b[0;34m\u001b[0m\u001b[0;34m\u001b[0m\u001b[0;34m\u001b[0m\u001b[0m\n\u001b[0;32m----> 3\u001b[0;31m \u001b[0mplt\u001b[0m\u001b[0;34m.\u001b[0m\u001b[0mscatter\u001b[0m\u001b[0;34m(\u001b[0m\u001b[0mphot_ref\u001b[0m\u001b[0;34m,\u001b[0m\u001b[0mphot_ref\u001b[0m\u001b[0;34m,\u001b[0m\u001b[0mmarker\u001b[0m\u001b[0;34m=\u001b[0m\u001b[0;34m'.'\u001b[0m\u001b[0;34m,\u001b[0m\u001b[0mc\u001b[0m\u001b[0;34m=\u001b[0m\u001b[0;34m'red'\u001b[0m\u001b[0;34m,\u001b[0m\u001b[0malpha\u001b[0m\u001b[0;34m=\u001b[0m\u001b[0;36m0.5\u001b[0m\u001b[0;34m)\u001b[0m\u001b[0;34m\u001b[0m\u001b[0;34m\u001b[0m\u001b[0m\n\u001b[0m",
      "\u001b[0;31mNameError\u001b[0m: name 'phot_ref' is not defined"
     ]
    }
   ],
   "source": [
    "# for i in range(0,len(photarray)):\n",
    "#      plt.scatter(photarray[i],marker='.',c='blue',alpha=0.005)\n",
    "plt.scatter(phot_ref,phot_ref,marker='.',c='red',alpha=0.5)"
   ]
  },
  {
   "cell_type": "code",
   "execution_count": null,
   "metadata": {},
   "outputs": [],
   "source": []
  }
 ],
 "metadata": {
  "kernelspec": {
   "display_name": "Python 3",
   "language": "python",
   "name": "python3"
  },
  "language_info": {
   "codemirror_mode": {
    "name": "ipython",
    "version": 3
   },
   "file_extension": ".py",
   "mimetype": "text/x-python",
   "name": "python",
   "nbconvert_exporter": "python",
   "pygments_lexer": "ipython3",
   "version": "3.7.3"
  }
 },
 "nbformat": 4,
 "nbformat_minor": 2
}
